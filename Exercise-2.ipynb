{
 "cells": [
  {
   "cell_type": "markdown",
   "metadata": {
    "nbgrader": {
     "grade": false,
     "grade_id": "cell-577a4204893ab1a5",
     "locked": true,
     "schema_version": 3,
     "solution": false
    }
   },
   "source": [
    "# Exercise 2 - Lists and indices\n",
    "\n",
    "The exercise for this week is meant to help you better understand data types and lists in Python, and practice saving changes to your files using Git and GitHub. You will also get to practice the Markdown syntax. \n",
    "\n",
    "Exercise 2 consists of 3 problems that you can find in this notebook. For each problem you need to modify the notebook either by fixing problems in existing code, or by adding your own solutions. Remember to save and commit your changes locally, and push your changes to GitHub after each major change! Regular commits will help you to keep track of your changes (and revert them if needed). Pushing your work to GitHub will ensure that you don't lose any work in case your computer crashes (can happen!).  \n",
    "\n",
    "## Please note\n",
    "\n",
    "- **Make your edits in the code cells that say `#Edit this code cell with your response.`\n",
    "\n",
    "- **Some of the cells in this Jupyter Notebook are \"Read-only\" which means that you are not able to edit them.**\n",
    "\n",
    "- **Some of the code cells contain tests. If these tests fail (you see an error message), you know there is still something wrong with your code.**\n",
    "\n",
    "\n",
    "\n",
    "## Where to find help\n",
    "\n",
    "- Revise [lesson 2 materials](https://geo-python.github.io/site/lessons/L2)\n",
    "- Check out [the hints for this week's exercise](https://geo-python.github.io/site/lessons/L2/exercise-2.html) on the course webpage\n",
    "\n",
    "Students at the University of Helsinki are also encouraged to participate in the exercise sessions and discussion on Slack. "
   ]
  },
  {
   "cell_type": "markdown",
   "metadata": {
    "nbgrader": {
     "grade": false,
     "grade_id": "cell-51a3fbb6b8d35c74",
     "locked": true,
     "schema_version": 3,
     "solution": false
    }
   },
   "source": [
    "## Problem 0 - Cloning Exercise repository to JupyterLab (*0 points*)\n",
    "\n",
    "Before starting to work with the actual problems for this week, you should start a new JupyterLab instance and clone **your own** Exercise 2 repository (e.g. `exercise-2-htenkanen`) into the instance using **Git**. *[See Lesson 2 materials](https://geo-python.github.io/site/lessons/L2/git-basics.html) for instructions on how to use `git clone` to get started.* "
   ]
  },
  {
   "cell_type": "markdown",
   "metadata": {
    "nbgrader": {
     "grade": false,
     "grade_id": "cell-34d197ef67f874ec",
     "locked": true,
     "schema_version": 3,
     "solution": false
    }
   },
   "source": [
    "## Problem 1 - Making changes to code and using Git (*3 points*)\n",
    "\n",
    "Your first task for this week is to make some modifications to the Python code in the cells below to fix the errors it gives once you run the code cells.\n",
    "The code should allow users to find the operational time of an [FMI observation station](http://en.ilmatieteenlaitos.fi/observation-stations) by setting the `selected_station` variable.\n",
    "*Don't worry about the case of a station name that is not on the list.*\n",
    "\n",
    "**The main aim is to print out an informative sentence that tells how long the selected station has been operational, for example** \n",
    "\n",
    "```\n",
    "'The Helsinki Harmaja station has been operational for 30 years.'\n",
    "```\n",
    "or\n",
    "```\n",
    "'The Helsinki Kaivopuisto station has been operational for 115 years.'\n",
    "```\n",
    "\n",
    "However, if you try to run all the code cells under Problem 1, you will run into errors. Your task is to find **3 things to fix** in the code cells under Problem 1. Once you succeed, the final print statement should work, and you should be able to modify the output only by setting a different station name.\n",
    "\n",
    "\n",
    "### Grading for Problem 1\n",
    "\n",
    "Your score for this problem will be based on\n",
    "\n",
    "- Fixing **3 problems in the code** to get the code working as expected\n",
    "- Committing each change separately using Git, and pushing the changes to GitHub\n",
    "- Listing the changes you needed to make to get the code working in plain English by modifying the existing text or adding a Markdown cell above each change"
   ]
  },
  {
   "cell_type": "markdown",
   "metadata": {
    "nbgrader": {
     "grade": false,
     "grade_id": "cell-624ad911a29570ae",
     "locked": true,
     "schema_version": 3,
     "solution": false
    }
   },
   "source": [
    "Here we create and fill lists of station names and starting years for observation.\n",
    "**NOTE**: Long lines can be split into multiple lines using the \"\\\\\" character.\n",
    "\n",
    "*These code cells are \"Read-only\" - you won't be able to modify the input lists, but you still need to run them.*"
   ]
  },
  {
   "cell_type": "code",
   "execution_count": 1,
   "metadata": {
    "nbgrader": {
     "grade": false,
     "grade_id": "cell-f16d9e1598382abb",
     "locked": true,
     "schema_version": 3,
     "solution": false
    }
   },
   "outputs": [],
   "source": [
    "# Read-only code cell\n",
    "station_names = ['Harmaja', 'Kaisaniemi', 'Kaivopuisto', 'Kumpula', 'lighthouse', \\\n",
    "                'Malmi airfield', 'Suomenlinna aaltopoiju', 'Vuosaari harbour']"
   ]
  },
  {
   "cell_type": "code",
   "execution_count": 2,
   "metadata": {
    "nbgrader": {
     "grade": false,
     "grade_id": "cell-a6fa30a83026c13c",
     "locked": true,
     "schema_version": 3,
     "solution": false
    }
   },
   "outputs": [],
   "source": [
    "# Read-only code cell\n",
    "station_start_years = [1989, 1844, 1904, 2005, 2003, 1937, 2016, 2012]"
   ]
  },
  {
   "cell_type": "markdown",
   "metadata": {
    "nbgrader": {
     "grade": false,
     "grade_id": "cell-111a923765d7da38",
     "locked": true,
     "schema_version": 3,
     "solution": false
    }
   },
   "source": [
    "Below we can define the selected station:"
   ]
  },
  {
   "cell_type": "code",
   "execution_count": 3,
   "metadata": {
    "nbgrader": {
     "grade": false,
     "grade_id": "selected_station",
     "locked": false,
     "schema_version": 3,
     "solution": true
    }
   },
   "outputs": [],
   "source": [
    "selected_station = None\n",
    "\n",
    "### BEGIN SOLUTION\n",
    "selected_station = 'Harmaja'\n",
    "### END SOLUTION"
   ]
  },
  {
   "cell_type": "markdown",
   "metadata": {
    "nbgrader": {
     "grade": false,
     "grade_id": "cell-25712dde56b0deb9",
     "locked": true,
     "schema_version": 3,
     "solution": false,
     "task": false
    }
   },
   "source": [
    "Check the value of the `selected_station` variable:"
   ]
  },
  {
   "cell_type": "code",
   "execution_count": 4,
   "metadata": {
    "nbgrader": {
     "grade": true,
     "grade_id": "selected_station_test",
     "locked": true,
     "points": 1,
     "schema_version": 3,
     "solution": false
    }
   },
   "outputs": [
    {
     "name": "stdout",
     "output_type": "stream",
     "text": [
      "Harmaja\n"
     ]
    }
   ],
   "source": [
    "print(selected_station)\n",
    "### BEGIN HIDDEN TESTS\n",
    "from nose.tools import ok_, assert_equal\n",
    "\n",
    "# Validate that selected_station is an element in the list station_names\n",
    "ok_(selected_station in station_names, \\\n",
    "    'selected_station = '+str(selected_station)+' is not an element in station_names')\n",
    "### END HIDDEN TESTS"
   ]
  },
  {
   "cell_type": "markdown",
   "metadata": {
    "nbgrader": {
     "grade": false,
     "grade_id": "cell-8c0ab6cf80173158",
     "locked": true,
     "schema_version": 3,
     "solution": false
    }
   },
   "source": [
    "Next we find the location of the selected station in the list of station names:"
   ]
  },
  {
   "cell_type": "code",
   "execution_count": 5,
   "metadata": {
    "nbgrader": {
     "grade": false,
     "grade_id": "cell-4d559812a8644360",
     "locked": true,
     "schema_version": 3,
     "solution": false
    }
   },
   "outputs": [],
   "source": [
    "# Read-only code cell (no edits needed in here)\n",
    "station_index = station_names.index(selected_station)"
   ]
  },
  {
   "cell_type": "markdown",
   "metadata": {
    "nbgrader": {
     "grade": false,
     "grade_id": "cell-5b6020cf2c5808a6",
     "locked": true,
     "schema_version": 3,
     "solution": false
    }
   },
   "source": [
    "Now we can calculate the years the station has been operational:"
   ]
  },
  {
   "cell_type": "code",
   "execution_count": 7,
   "metadata": {
    "nbgrader": {
     "grade": false,
     "grade_id": "station_years",
     "locked": false,
     "schema_version": 3,
     "solution": true
    }
   },
   "outputs": [],
   "source": [
    "station_years = 2019 - station_start_years[selected_station]\n",
    "\n",
    "### BEGIN SOLUTION\n",
    "station_years = 2019 - station_start_years[station_index]\n",
    "### END SOLUTION"
   ]
  },
  {
   "cell_type": "markdown",
   "metadata": {
    "nbgrader": {
     "grade": false,
     "grade_id": "cell-a3782621daec92f2",
     "locked": true,
     "schema_version": 3,
     "solution": false
    }
   },
   "source": [
    "\n",
    "Now, we can print the station name and number of years of operation to the screen.\n",
    "A sample print statement on screen is `'The Helsinki Harmaja station has been operational for 30 years.'` The print statements should work for all listed stations only by modifying the `selected_station` -variable that is defined earlier in this problem."
   ]
  },
  {
   "cell_type": "code",
   "execution_count": 9,
   "metadata": {
    "nbgrader": {
     "grade": false,
     "grade_id": "print_statement",
     "locked": false,
     "schema_version": 3,
     "solution": true
    }
   },
   "outputs": [
    {
     "name": "stdout",
     "output_type": "stream",
     "text": [
      "The Helsinki Harmaja station has been operational for 30 years.\n"
     ]
    }
   ],
   "source": [
    "print_statement = \"The Helsinki \" + selected_station + \" station has been operational for \" + \\\n",
    "      str(station_years) + \" years.\n",
    "\n",
    "### BEGIN SOLUTION\n",
    "print_statement = \"The Helsinki \" + selected_station + \" station has been operational for \" + \\\n",
    "      str(station_years) + \" years.\"\n",
    "### END SOLUTION\n",
    "\n",
    "print(print_statement)"
   ]
  },
  {
   "cell_type": "markdown",
   "metadata": {
    "nbgrader": {
     "grade": false,
     "grade_id": "cell-f26de00add515a66",
     "locked": true,
     "schema_version": 3,
     "solution": false,
     "task": false
    }
   },
   "source": [
    "#### Tests for problem 1\n",
    "\n",
    "Finally, we can run some tests to see if things are working as they should! These tests may help you in solving the problem. Note, we also run some hidden tests for checking the exercises. If these tests pass, it's not a quarantee of a 100 % correct answer!"
   ]
  },
  {
   "cell_type": "code",
   "execution_count": 18,
   "metadata": {
    "nbgrader": {
     "grade": true,
     "grade_id": "selected_station_dtype_test",
     "locked": true,
     "points": 1,
     "schema_version": 3,
     "solution": false,
     "task": false
    }
   },
   "outputs": [],
   "source": [
    "# Validate that station_years is a variable of integer type\n",
    "# The data type should be correct if this code cell runs witout errors :)\n",
    "assert type(selected_station) == str, \"Wrong data type!\""
   ]
  },
  {
   "cell_type": "code",
   "execution_count": 16,
   "metadata": {
    "nbgrader": {
     "grade": true,
     "grade_id": "station_years__dtype_test",
     "locked": true,
     "points": 1,
     "schema_version": 3,
     "solution": false,
     "task": false
    }
   },
   "outputs": [],
   "source": [
    "# Validate that station_years is a variable of integer type\n",
    "# The data type should be correct if this code cell runs witout errors :)\n",
    "assert type(station_years) == int, \"Wrong data type!\""
   ]
  },
  {
   "cell_type": "markdown",
   "metadata": {},
   "source": [
    "Run all the code cells again up until this point so that the selected station is Harmaja.\n",
    "Note, if you select some other station you will get an error from this code cell (we now only test one use case in here). "
   ]
  },
  {
   "cell_type": "code",
   "execution_count": 17,
   "metadata": {
    "nbgrader": {
     "grade": true,
     "grade_id": "print_statement_test1",
     "locked": true,
     "points": 1,
     "schema_version": 3,
     "solution": false,
     "task": false
    }
   },
   "outputs": [],
   "source": [
    "# Test the correct print statement for Harmaja station:\n",
    "assert print_statement == 'The Helsinki Harmaja station has been operational for 30 years.'\n",
    "\n",
    "### BEGIN HIDDEN TESTS\n",
    "# NOTE!! The visible test is not optimal beacause it only tests one case..\n",
    "\n",
    "# This is the correct solution for the whole thing (this code will not cause an error..)\n",
    "selected_station = 'Kaivopuisto'\n",
    "station_years = 2019 - station_start_years[station_names.index(selected_station)]\n",
    "assert_equal(\"The Helsinki Kaivopuisto station has been operational for 115 years.\", \"The Helsinki \" + selected_station + \" station has been operational for \"+ \\\n",
    "      str(station_years)+ \" years.\")\n",
    "### END HIDDEN TESTS"
   ]
  },
  {
   "cell_type": "markdown",
   "metadata": {
    "nbgrader": {
     "grade": false,
     "grade_id": "final_answer_question",
     "locked": true,
     "schema_version": 3,
     "solution": false
    }
   },
   "source": [
    "#### Summarize what you did in problem 1 using markdown\n",
    "\n",
    "Describe the 3 code changes you made in plain English (you can, for example, use bullet points here):"
   ]
  },
  {
   "cell_type": "markdown",
   "metadata": {
    "nbgrader": {
     "grade": true,
     "grade_id": "final_answer_question_test",
     "locked": false,
     "points": 0,
     "schema_version": 3,
     "solution": true
    }
   },
   "source": []
  },
  {
   "cell_type": "markdown",
   "metadata": {
    "nbgrader": {
     "grade": false,
     "grade_id": "cell-f328c6e177c1d29c",
     "locked": true,
     "schema_version": 3,
     "solution": false
    }
   },
   "source": [
    "## Problem 2 - Accessing monthly average temperatures (*5 points*)\n",
    "\n",
    "The table below presents [monthly average temperatures recorded at the Helsinki Malmi airport](https://www.timeanddate.com/weather/finland/helsinki/climate).\n",
    "\n",
    "| Month     | Temperature [°C] |\n",
    "| --------- | :--------------: |\n",
    "| January   | -3.5             |\n",
    "| February  | -4.5             |\n",
    "| March     | -1.0             |\n",
    "| April     | 4.0              |\n",
    "| May       | 10.0             |\n",
    "| June      | 15.0             |\n",
    "| July      | 18.0             |\n",
    "| August    | 16.0             |\n",
    "| September | 11.5             |\n",
    "| October   | 6.0              |\n",
    "| November  | 2.0              |\n",
    "| December  | -1.5             |\n",
    "\n",
    "In the code cells below, write some Python code that allows users to select a month and have the monthly average temperature printed to the screen.\n",
    "For example, your code should display the following for the month of March:\n",
    "\n",
    "```\n",
    "The average temperature in Helsinki in March is -1.0\n",
    "```\n",
    "\n",
    "### Grading for Problem 2\n",
    "\n",
    "Your score for this problem will be based on\n",
    "\n",
    "- Having your notebook display the monthly average temperature in a selected month, set by defining the variable `selected_month_index`. **NOTE**: We expect you to use the index value to select the month, not the name of the month (e.g., \"May\").\n",
    "- Having it work for all 12 months in the year.\n",
    "- Describe how your code works in a few sentences of plain English in the Markdown cell above your code\n",
    "- Including inline comments to clearly explain how the code works between most and/or all lines of your code in its Python cell\n",
    "- Pushing your script to your GitHub repository."
   ]
  },
  {
   "cell_type": "code",
   "execution_count": null,
   "metadata": {
    "nbgrader": {
     "grade": false,
     "grade_id": "define_lists",
     "locked": false,
     "schema_version": 3,
     "solution": true
    }
   },
   "outputs": [],
   "source": [
    "# here is the variable which you use to set the selected month:\n",
    "selected_month_index = None\n",
    "\n",
    "# Here are also the names of the two lists you should use for this problem. Please don't change the variable names!\n",
    "months = None\n",
    "average_temp = None\n",
    "\n",
    "# Using the lists and their indices, generate the desired print statement:\n",
    "print_statement = None\n",
    "\n",
    "### BEGIN SOLUTION\n",
    "months = ['January', 'February', 'March', 'April', 'May', 'June', 'July', 'August', 'September', \\\n",
    "         'October', 'November', 'December']\n",
    "average_temp = [-3.5, -4.5, -1.0, 4.0, 10.0, 15.0, 18.0, 16.0, 11.5, 6.0, 2.0, -1.5]\n",
    "selected_month_index = 6\n",
    "print_statement = 'The average temperature in Helsinki in ' + str(months[selected_month_index]) + ' is ' + str(average_temp[selected_month_index])\n",
    "\n",
    "### END SOLUTION"
   ]
  },
  {
   "cell_type": "code",
   "execution_count": null,
   "metadata": {
    "nbgrader": {
     "grade": true,
     "grade_id": "define_lists_test",
     "locked": true,
     "points": 1,
     "schema_version": 3,
     "solution": false
    }
   },
   "outputs": [],
   "source": [
    "# Check your print statement:\n",
    "print(print_statement)\n",
    "### BEGIN HIDDEN TESTS\n",
    "#Validate some list elements\n",
    "assert_equal(months[3],'April')\n",
    "assert_equal(months[-1],'December')\n",
    "assert_equal(average_temp[3],4.0)\n",
    "assert_equal(average_temp[-1],-1.5)\n",
    "### END HIDDEN TESTS"
   ]
  },
  {
   "cell_type": "markdown",
   "metadata": {
    "nbgrader": {
     "grade": false,
     "grade_id": "cell-3fb0ac91413aeadc",
     "locked": true,
     "schema_version": 3,
     "solution": false,
     "task": false
    }
   },
   "source": [
    "#### Tests for problem 2\n",
    "\n",
    "Let's run some additional tests to see if things are working as they should! These tests may help you in solving the problem. Note, we also run some hidden tests for checking the exercises."
   ]
  },
  {
   "cell_type": "code",
   "execution_count": null,
   "metadata": {
    "nbgrader": {
     "grade": true,
     "grade_id": "list_length_test",
     "locked": true,
     "points": 0,
     "schema_version": 3,
     "solution": false
    }
   },
   "outputs": [],
   "source": [
    "#Validate the length of two lists are 12\n",
    "ok_(len(months)==12)\n",
    "ok_(len(average_temp)==12)"
   ]
  },
  {
   "cell_type": "code",
   "execution_count": null,
   "metadata": {
    "nbgrader": {
     "grade": true,
     "grade_id": "list_type_test",
     "locked": true,
     "points": 1,
     "schema_version": 3,
     "solution": false
    }
   },
   "outputs": [],
   "source": [
    "#Validate that variable months and average_temp are lists\n",
    "ok_(isinstance(months, list), 'Variable months is not a list')\n",
    "ok_(isinstance(average_temp, list), 'Variable average_temp is not a list')"
   ]
  },
  {
   "cell_type": "code",
   "execution_count": null,
   "metadata": {
    "nbgrader": {
     "grade": true,
     "grade_id": "print_statement_test",
     "locked": true,
     "points": 2,
     "schema_version": 3,
     "solution": false
    }
   },
   "outputs": [],
   "source": [
    "#Validate the print statement is correct; \n",
    "# Set selected_month_index to correspond with July before running this cell.\n",
    "# Note! Your code should work with any of the 12 months!\n",
    "assert_equal(print_statement, 'The average temperature in Helsinki in July is 18.0')\n",
    "\n",
    "### BEGIN HIDDEN TESTS\n",
    "selected_station_index = 6\n",
    "assert_equal('The average temperature in Helsinki in July is 18.0', \\\n",
    "'The average temperature in Helsinki in '+months[selected_month_index]+' is '+str(average_temp[selected_month_index]))\n",
    "### END HIDDEN TESTS"
   ]
  },
  {
   "cell_type": "markdown",
   "metadata": {
    "nbgrader": {
     "grade": false,
     "grade_id": "markdown_practice",
     "locked": true,
     "schema_version": 3,
     "solution": false
    }
   },
   "source": [
    "## Problem 3 - More practice using Markdown (*2 points*)\n",
    "\n",
    "The last task in this week's exercise is to answer some questions and add an image in this notebook using Markdown. **Note**: You may want to read a bit more about [formatting text in Github-flavored Markdown](https://help.github.com/articles/basic-writing-and-formatting-syntax/).\n",
    "\n",
    "\n",
    "### Grading for Problem 3\n",
    "\n",
    "Your score for this problem will be based on\n",
    "\n",
    "- Having answered the three questions below\n",
    "- Posting an image of a favorite animal using Markdown\n",
    "\n",
    "\n",
    "#### 1. Give your responses to these three questions about this week's lesson:\n",
    "\n",
    "    - What did you learn?\n",
    "    - What was unclear?\n",
    "    - What would you change?\n",
    "    \n",
    "*Please use Markdown lists when answering these questions.*\n",
    "        "
   ]
  },
  {
   "cell_type": "markdown",
   "metadata": {
    "nbgrader": {
     "grade": true,
     "grade_id": "answer_questions",
     "locked": false,
     "points": 1,
     "schema_version": 3,
     "solution": true
    }
   },
   "source": [
    "- What did you like?\n",
    "\n",
    "This lesson was amazing! Python lists are simply mind blowing!"
   ]
  },
  {
   "cell_type": "markdown",
   "metadata": {},
   "source": [
    "#### 2. Adding an image\n",
    "\n",
    "Just for fun, add an image of an animal that you like along with a short caption giving its name and anything special you might like to add.\n",
    "\n",
    "You can add an image using an URL, or (if you are looking for a challenge) by uploading an image to your GitHub repository and linking that image file to this notebook .\n",
    "\n",
    "We suggest that you search for images in a repository that includes licencing information such as [Wikimedia Commons](https://commons.wikimedia.org/wiki/Main_Page) or [Pixabay](https://pixabay.com/). You are, of course, also welcome to upload your own animal images. "
   ]
  },
  {
   "cell_type": "markdown",
   "metadata": {
    "nbgrader": {
     "grade": true,
     "grade_id": "insert_image",
     "locked": false,
     "points": 1,
     "schema_version": 3,
     "solution": true
    }
   },
   "source": [
    "My favorite animal:\n",
    "\n",
    "![A wolverine](https://cdn.pixabay.com/photo/2016/09/10/23/55/wolverine-1660429_1280.jpg)"
   ]
  }
 ],
 "metadata": {
  "anaconda-cloud": {},
  "celltoolbar": "Create Assignment",
  "kernelspec": {
   "display_name": "Python 3",
   "language": "python",
   "name": "python3"
  },
  "language_info": {
   "codemirror_mode": {
    "name": "ipython",
    "version": 3
   },
   "file_extension": ".py",
   "mimetype": "text/x-python",
   "name": "python",
   "nbconvert_exporter": "python",
   "pygments_lexer": "ipython3",
   "version": "3.7.6"
  }
 },
 "nbformat": 4,
 "nbformat_minor": 4
}
