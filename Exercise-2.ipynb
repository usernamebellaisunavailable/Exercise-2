{
 "cells": [
  {
   "cell_type": "markdown",
   "metadata": {
    "nbgrader": {
     "grade": false,
     "grade_id": "cell-577a4204893ab1a5",
     "locked": true,
     "schema_version": 1,
     "solution": false
    }
   },
   "source": [
    "# Exercise 2 - Editing and creating notebooks and practice using Git\n",
    "\n",
    "The exercise for this week is meant to help you better understand data types and lists in Python, and practice saving changes to your files using Git and GitHub.\n",
    "Below you have a series of problems that you will be asked to solve by modifying some \"starter code\" in a Jupyter notebook.\n",
    "\n",
    "For each problem you need to modify the given notebook, and then upload your files to GitHub.\n",
    "The answers to the questions in this week's exercise should be given by modifying the document in the requested places.\n",
    "\n",
    "- **Exercise 2 is due by 09:00 on 18.9.**\n",
    "- Scores on this exercise are out of 20 points.\n",
    "\n",
    "\n",
    "\n",
    "## Where to find help\n",
    "\n",
    "If you're having trouble, please remember you can\n",
    "\n",
    "- Come to the work sessions on Thursday and/or Friday for help from the course assistants\n",
    "- Check out [the hints for this week's exercise](https://geo-python.github.io/site/lessons/L2/exercise-2.html) on the course webpage\n",
    "- Post questions to Slack"
   ]
  },
  {
   "cell_type": "markdown",
   "metadata": {
    "nbgrader": {
     "grade": false,
     "grade_id": "cell-51a3fbb6b8d35c74",
     "locked": true,
     "schema_version": 1,
     "solution": false
    }
   },
   "source": [
    "## Problem 0 - Cloning Exercise repository to JupyterLab (*0 points*)\n",
    "\n",
    "Before starting to work with the actual problems for this week, you should start a new JupyterLab instance and clone **your own** Exercise 2 repository (e.g. `htenkanen-exercise-2`) into the instance using **Git** as we saw in the [lecture this week](https://geo-python.github.io/site/lessons/L2/git-basics.html). "
   ]
  },
  {
   "cell_type": "markdown",
   "metadata": {
    "nbgrader": {
     "grade": false,
     "grade_id": "cell-34d197ef67f874ec",
     "locked": true,
     "schema_version": 1,
     "solution": false
    }
   },
   "source": [
    "## Problem 1 - Making changes to a file using Git (*7 points*)\n",
    "\n",
    "Your first task for this week is to make some modifications to the Python code in the cells below to fix the errors it gives once you run the codes.\n",
    "The code should allow users to find the operational time of an [FMI observation station](http://en.ilmatieteenlaitos.fi/observation-stations) by setting the `selected_station` variable.\n",
    "Don't worry about the case of a user entering a station name that is not on the list.\n",
    "\n",
    "### Grading for Problem 1\n",
    "\n",
    "Your score for this problem will be based on\n",
    "\n",
    "- Fixing **3 major code problems** to get the code working as expected\n",
    "- Committing each change separately to GitHub using Git\n",
    "- Listing the changes you needed to make to get the code working in plain English by modifying the existing text or adding a Markdown cell above each change"
   ]
  },
  {
   "cell_type": "markdown",
   "metadata": {
    "nbgrader": {
     "grade": false,
     "grade_id": "cell-624ad911a29570ae",
     "locked": true,
     "schema_version": 1,
     "solution": false
    }
   },
   "source": [
    "Here we create and fill lists of station names and starting years for observation.\n",
    "**NOTE**: Long lines can be split into multiple lines using the \"\\\\\" character. Split lines can be indented freely."
   ]
  },
  {
   "cell_type": "code",
   "execution_count": null,
   "metadata": {
    "nbgrader": {
     "grade": false,
     "grade_id": "cell-f16d9e1598382abb",
     "locked": true,
     "schema_version": 1,
     "solution": false
    }
   },
   "outputs": [],
   "source": [
    "station_names = ['Harmaja', 'Kaisaniemi', 'Kaivopuisto', 'Kumpula', 'lighthouse', \\\n",
    "                'Malmi airfield', 'Suomenlinna aaltopoiju', 'Vuosaari harbour']"
   ]
  },
  {
   "cell_type": "code",
   "execution_count": null,
   "metadata": {
    "nbgrader": {
     "grade": false,
     "grade_id": "cell-a6fa30a83026c13c",
     "locked": true,
     "schema_version": 1,
     "solution": false
    }
   },
   "outputs": [],
   "source": [
    "station_start_years = [1989, 1844, 1904, 2005, 2003, 1937, 2016, 2012]"
   ]
  },
  {
   "cell_type": "markdown",
   "metadata": {
    "nbgrader": {
     "grade": false,
     "grade_id": "cell-111a923765d7da38",
     "locked": true,
     "schema_version": 1,
     "solution": false
    }
   },
   "source": [
    "Below we can define the selected station."
   ]
  },
  {
   "cell_type": "code",
   "execution_count": null,
   "metadata": {
    "nbgrader": {
     "grade": false,
     "grade_id": "cell-1bb9b21dd7a6fe5f",
     "locked": false,
     "schema_version": 1,
     "solution": true
    }
   },
   "outputs": [],
   "source": [
    "selected_station = 1\n",
    "### BEGIN SOLUTION\n",
    "selected_station = 'Harmaja'\n",
    "### END SOLUTION"
   ]
  },
  {
   "cell_type": "code",
   "execution_count": null,
   "metadata": {
    "nbgrader": {
     "grade": true,
     "grade_id": "cell-c3ee9b0e687e3404",
     "locked": true,
     "points": 0,
     "schema_version": 1,
     "solution": false
    }
   },
   "outputs": [],
   "source": [
    "import nose\n",
    "..."
   ]
  },
  {
   "cell_type": "markdown",
   "metadata": {
    "nbgrader": {
     "grade": false,
     "grade_id": "cell-6aa414111d1b683d",
     "locked": true,
     "schema_version": 1,
     "solution": false
    }
   },
   "source": [
    "Describe the change you made below in plain English:"
   ]
  },
  {
   "cell_type": "markdown",
   "metadata": {
    "nbgrader": {
     "grade": true,
     "grade_id": "cell-022906d863e0af03",
     "locked": false,
     "points": 1,
     "schema_version": 1,
     "solution": true
    }
   },
   "source": []
  },
  {
   "cell_type": "markdown",
   "metadata": {
    "nbgrader": {
     "grade": false,
     "grade_id": "cell-8c0ab6cf80173158",
     "locked": true,
     "schema_version": 1,
     "solution": false
    }
   },
   "source": [
    "Next we find the location of the selected station in the list of station names."
   ]
  },
  {
   "cell_type": "code",
   "execution_count": null,
   "metadata": {
    "nbgrader": {
     "grade": false,
     "grade_id": "cell-4d559812a8644360",
     "locked": true,
     "schema_version": 1,
     "solution": false
    }
   },
   "outputs": [],
   "source": [
    "station_index = station_names.index(selected_station)"
   ]
  },
  {
   "cell_type": "markdown",
   "metadata": {
    "nbgrader": {
     "grade": false,
     "grade_id": "cell-5b6020cf2c5808a6",
     "locked": true,
     "schema_version": 1,
     "solution": false
    }
   },
   "source": [
    "Now we can calculate the years the station has been operational."
   ]
  },
  {
   "cell_type": "code",
   "execution_count": null,
   "metadata": {
    "nbgrader": {
     "grade": false,
     "grade_id": "cell-5ad0dda39e75048b",
     "locked": false,
     "schema_version": 1,
     "solution": true
    }
   },
   "outputs": [],
   "source": [
    "station_years = 2019 - station_start_years[selected_station]"
   ]
  },
  {
   "cell_type": "code",
   "execution_count": null,
   "metadata": {
    "nbgrader": {
     "grade": true,
     "grade_id": "cell-4d3e6bc66ab42fdb",
     "locked": true,
     "points": 0,
     "schema_version": 1,
     "solution": false
    }
   },
   "outputs": [],
   "source": []
  },
  {
   "cell_type": "markdown",
   "metadata": {
    "nbgrader": {
     "grade": false,
     "grade_id": "cell-5e0f49b8e3312211",
     "locked": true,
     "schema_version": 1,
     "solution": false
    }
   },
   "source": [
    "Describe the change you made below in plain English:"
   ]
  },
  {
   "cell_type": "markdown",
   "metadata": {
    "nbgrader": {
     "grade": true,
     "grade_id": "cell-bbcc75d9f7a730cd",
     "locked": false,
     "points": 0,
     "schema_version": 1,
     "solution": true
    }
   },
   "source": []
  },
  {
   "cell_type": "markdown",
   "metadata": {
    "nbgrader": {
     "grade": false,
     "grade_id": "cell-51f2664e7eb89766",
     "locked": true,
     "schema_version": 1,
     "solution": false
    }
   },
   "source": [
    "Finally, we print the station name and number of years of operation to the screen."
   ]
  },
  {
   "cell_type": "code",
   "execution_count": null,
   "metadata": {
    "nbgrader": {
     "grade": false,
     "grade_id": "cell-da666544f11dd7b1",
     "locked": false,
     "schema_version": 1,
     "solution": true
    }
   },
   "outputs": [],
   "source": [
    "print(\"The Helsinki\", selectedStation, \"station has been operational for\", \\\n",
    "      stationYears, \"years.)"
   ]
  },
  {
   "cell_type": "code",
   "execution_count": null,
   "metadata": {
    "nbgrader": {
     "grade": true,
     "grade_id": "cell-4855f504968a2d94",
     "locked": true,
     "points": 0,
     "schema_version": 1,
     "solution": false
    }
   },
   "outputs": [],
   "source": []
  },
  {
   "cell_type": "markdown",
   "metadata": {
    "nbgrader": {
     "grade": false,
     "grade_id": "cell-fadeb47940f2210d",
     "locked": true,
     "schema_version": 1,
     "solution": false
    }
   },
   "source": [
    "Describe the change you made below in plain English:"
   ]
  },
  {
   "cell_type": "markdown",
   "metadata": {
    "nbgrader": {
     "grade": true,
     "grade_id": "cell-f46f8c8ce34b46ec",
     "locked": false,
     "points": 0,
     "schema_version": 1,
     "solution": true
    }
   },
   "source": []
  },
  {
   "cell_type": "markdown",
   "metadata": {
    "nbgrader": {
     "grade": false,
     "grade_id": "cell-f328c6e177c1d29c",
     "locked": true,
     "schema_version": 1,
     "solution": false
    }
   },
   "source": [
    "## Problem 2 - Creating a new Jupyter notebook and pushing it to GitHub (*9 points*)\n",
    "\n",
    "The table below presents [monthly average temperatures recorded at the Helsinki Malmi airport](https://www.timeanddate.com/weather/finland/helsinki/climate).\n",
    "\n",
    "| Month     | Temperature [°C] |\n",
    "| --------- | :--------------: |\n",
    "| January   | -3.5             |\n",
    "| February  | -4.5             |\n",
    "| March     | -1.0             |\n",
    "| April     | 4.0              |\n",
    "| May       | 10.0             |\n",
    "| June      | 15.0             |\n",
    "| July      | 18.0             |\n",
    "| August    | 16.0             |\n",
    "| September | 11.5             |\n",
    "| October   | 6.0              |\n",
    "| November  | 2.0              |\n",
    "| December  | -1.5             |\n",
    "\n",
    "In the code cells below, write some Python code that allows users to select a month and have the monthly average temperature printed to the screen.\n",
    "For example, your code should display the following for the month of March:\n",
    "\n",
    "```\n",
    "The average temperature in Helsinki in March is -1.0\n",
    "```\n",
    "\n",
    "### Grading for Problem 2\n",
    "\n",
    "Your score for this problem will be based on\n",
    "\n",
    "- Having your notebook display the monthly average temperature in a selected month, set by defining the variable `selected_month_index` in a cell near the top of the notebook.\n",
    "    - **NOTE**: We expect you to use the index value to select the month, not the name of the month (e.g., \"May\").\n",
    "- Having it work for all 12 months in the year.\n",
    "- Describe how your code works in a few sentences of plain English in the Markdown cell above your code\n",
    "- Including inline comments to clearly explain how the code works between most and/or all lines of your code in its Python cell\n",
    "- Pushing your script to your GitHub repository for this week's lesson.\n",
    "- Answering the three questions listed at the end of this problem."
   ]
  },
  {
   "cell_type": "markdown",
   "metadata": {
    "nbgrader": {
     "grade": true,
     "grade_id": "cell-8f55ec0c67488f58",
     "locked": false,
     "points": 0,
     "schema_version": 1,
     "solution": true
    }
   },
   "source": [
    "### Code description\n",
    "\n",
    "Describe how your code works here."
   ]
  },
  {
   "cell_type": "code",
   "execution_count": null,
   "metadata": {
    "nbgrader": {
     "grade": false,
     "grade_id": "cell-4e0b1f7ad0ca4693",
     "locked": false,
     "schema_version": 1,
     "solution": true
    }
   },
   "outputs": [],
   "source": [
    "# We have provided the names of the two lists you should use for this problem.\n",
    "months = None\n",
    "average_temp = None\n",
    "### BEGIN SOLUTION\n",
    "months = ['January', 'February', 'March']\n",
    "average_temp = [-3.5, -4.5, -1.0]\n",
    "selected_month_index = 2\n",
    "print('The average temperature in Helsinki in', months[selected_month_index], 'is', average_temp[selected_month_index])\n",
    "### END SOLUTION"
   ]
  },
  {
   "cell_type": "code",
   "execution_count": null,
   "metadata": {
    "nbgrader": {
     "grade": true,
     "grade_id": "cell-ff185e790e43145e",
     "locked": true,
     "points": 0,
     "schema_version": 1,
     "solution": false
    }
   },
   "outputs": [],
   "source": [
    "'The average temperature in Helsinki in March is -1.0' == 'The average temperature in Helsinki in '+months[selected_month_index]+ ' is '+str(average_temp[selected_month_index])"
   ]
  },
  {
   "cell_type": "code",
   "execution_count": null,
   "metadata": {
    "nbgrader": {
     "grade": true,
     "grade_id": "cell-fb4b3da63919bbeb",
     "locked": true,
     "points": 0,
     "schema_version": 1,
     "solution": false
    }
   },
   "outputs": [],
   "source": [
    "['The average temperature in Helsinki in', months[selected_month_index], 'is', average_temp[selected_month_index]]"
   ]
  },
  {
   "cell_type": "code",
   "execution_count": null,
   "metadata": {
    "nbgrader": {
     "grade": true,
     "grade_id": "cell-ed263e3d32ee8734",
     "locked": true,
     "points": 0,
     "schema_version": 1,
     "solution": false
    }
   },
   "outputs": [],
   "source": []
  },
  {
   "cell_type": "markdown",
   "metadata": {
    "nbgrader": {
     "grade": false,
     "grade_id": "cell-ef8568b0975e4642",
     "locked": true,
     "schema_version": 1,
     "solution": false
    }
   },
   "source": [
    "## Problem 3 - More practice using Markdown (*4 points*)\n",
    "\n",
    "The last task in this week's exercise is to answer some questions in this notebook using Markdown.\n",
    "\n",
    "**Note**: You may want to read a bit more about [formatting text in Github-flavored Markdown](https://help.github.com/articles/basic-writing-and-formatting-syntax/).\n",
    "\n",
    "1. Give your responses to the three questions about this week's lesson.\n",
    "    - Be sure to list the question on the first line of the Markdown cell using Markdown for an unordered list\n",
    "    - Questions to answer about Lesson 2:\n",
    "        - What did you like?\n",
    "        - What did you dislike?\n",
    "        - What would you change?\n",
    "\n",
    "2. Just for fun, add an image of an animal that you like along with a short caption giving its name and anything special you might like to add.\n",
    "You should add an image by linking to a website with the image, or if by uploading an image to your GitHub repository and linking to that (if you are looking for a challenge).\n",
    "We suggest that you search for images in a repository that includes licencing information such as [Wikimedia Commons](https://commons.wikimedia.org/wiki/Main_Page) or [Pixabay](https://pixabay.com/).\n",
    "You are, of course, also welcome to upload your own animal images.\n",
    "You can add it in a new Markdown cell under those used to answer the questions in part 1 of this problem.\n",
    "\n",
    "### Grading for Problem 3\n",
    "\n",
    "Your score for this problem will be based on\n",
    "\n",
    "- Your answers to the three questions that are part of this problem\n",
    "- Posting an image of a favorite animal using Markdown"
   ]
  },
  {
   "cell_type": "markdown",
   "metadata": {
    "nbgrader": {
     "grade": true,
     "grade_id": "cell-ec1cb9fcd924ec5a",
     "locked": false,
     "points": 1,
     "schema_version": 1,
     "solution": true
    }
   },
   "source": [
    "- What did you like?\n",
    "\n",
    "This lesson was amazing! Python lists are simply mind blowing!"
   ]
  },
  {
   "cell_type": "markdown",
   "metadata": {
    "nbgrader": {
     "grade": true,
     "grade_id": "cell-0c0f89bbc72e46d0",
     "locked": false,
     "points": 1,
     "schema_version": 1,
     "solution": true
    }
   },
   "source": []
  },
  {
   "cell_type": "markdown",
   "metadata": {
    "nbgrader": {
     "grade": true,
     "grade_id": "cell-25fb5ac29fa3f58d",
     "locked": false,
     "points": 1,
     "schema_version": 1,
     "solution": true
    }
   },
   "source": []
  },
  {
   "cell_type": "markdown",
   "metadata": {
    "nbgrader": {
     "grade": true,
     "grade_id": "cell-0ef0803466212d71",
     "locked": false,
     "points": 1,
     "schema_version": 1,
     "solution": true
    }
   },
   "source": [
    "My favorite animal:\n",
    "\n",
    "![A wolverine](https://cdn.pixabay.com/photo/2016/09/10/23/55/wolverine-1660429_1280.jpg)"
   ]
  }
 ],
 "metadata": {
  "celltoolbar": "Create Assignment",
  "kernelspec": {
   "display_name": "Python 3",
   "language": "python",
   "name": "python3"
  },
  "language_info": {
   "codemirror_mode": {
    "name": "ipython",
    "version": 3
   },
   "file_extension": ".py",
   "mimetype": "text/x-python",
   "name": "python",
   "nbconvert_exporter": "python",
   "pygments_lexer": "ipython3",
   "version": "3.7.3"
  }
 },
 "nbformat": 4,
 "nbformat_minor": 2
}
