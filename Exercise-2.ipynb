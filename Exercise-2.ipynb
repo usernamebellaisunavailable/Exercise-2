{
 "cells": [
  {
   "cell_type": "markdown",
   "metadata": {
    "nbgrader": {
     "grade": false,
     "grade_id": "cell-577a4204893ab1a5",
     "locked": true,
     "schema_version": 3,
     "solution": false
    }
   },
   "source": [
    "# Exercise 2 - Lists and indices (10 points)\n",
    "\n",
    "The exercise for this week is meant to help you better understand lists in Python, and practice saving changes to your files using Git and GitHub. You will also get to practice the Markdown syntax. \n",
    "\n",
    "Exercise 2 consists of 3 problems. For each problem you need to modify the notebook by adding your own solutions. Remember to save and commit your changes locally, and push your changes to GitHub after each major change! Regular commits will help you to keep track of your changes (and revert them if needed). Pushing your work to GitHub will ensure that you don't lose any work in case your computer crashes (can happen!).\n",
    "\n",
    "**Please don't change the file name**, i.e. do all your editing in the provided `Exercise-2.ipynb` file. \n",
    "\n",
    "- **Exercise 2 is due by the start of the next lesson (9:15 am, 16 September 2020)**.\n",
    "- Scores on this exercise are out of **10 points (Problems 1-3)**.\n",
    "\n",
    "## Please note\n",
    "\n",
    "- The Python code cells where you should make changes will contain text that reads\n",
    "\n",
    "  ```Python\n",
    "  # YOUR CODE HERE\n",
    "  raise NotImplementedError()\n",
    "  ```\n",
    "  **You should delete that text and replace it with your code** to answer the related question\n",
    "- Some of the cells in this Jupyter Notebook are \"Read-only\" which means that you are not able to edit them.\n",
    "- Some of the code cells contain tests. If these tests fail (you see an error message), you know there is still something wrong with your code.\n",
    "\n",
    "## Where to find help\n",
    "\n",
    "- Review the [materials for Lesson 2](https://geo-python-site.readthedocs.io/en/latest/lessons/L2/overview.html)\n",
    "- Check out [the hints for this week's exercise](https://geo-python-site.readthedocs.io/en/latest/lessons/L2/exercise-2.html#exercise-2-hints) on the course webpage\n",
    "\n",
    "Students at the University of Helsinki are also encouraged to participate in the exercise sessions and discussion on Slack. "
   ]
  },
  {
   "cell_type": "markdown",
   "metadata": {
    "nbgrader": {
     "grade": false,
     "grade_id": "cell-51a3fbb6b8d35c74",
     "locked": true,
     "schema_version": 3,
     "solution": false
    }
   },
   "source": [
    "## Problem 0 - Cloning Exercise repository to JupyterLab (*0 points*)\n",
    "\n",
    "Before starting to work with the actual problems for this week, you should start a new JupyterLab instance and clone **your own** Exercise 2 repository (e.g. `exercise-2-htenkanen`) into the instance using **Git**. *Check [the Lesson 2 materials](https://geo-python-site.readthedocs.io/en/latest/lessons/L2/git-basics.html) for instructions on how to get started.* "
   ]
  },
  {
   "cell_type": "markdown",
   "metadata": {
    "nbgrader": {
     "grade": false,
     "grade_id": "cell-34d197ef67f874ec",
     "locked": true,
     "schema_version": 3,
     "solution": false
    }
   },
   "source": [
    "## Problem 1 - Making and changing lists, and using Git (*3 points*)\n",
    "\n",
    "Your first task for this week is to create a list of [FMI observation stations](http://en.ilmatieteenlaitos.fi/observation-stations) and the years in which they began operating.\n",
    "You will then add some additional stations and operation years to your lists, and finally sort the lists such that the newest station is first in the list of operation years.\n",
    "You will find the list of stations and the years in which they began operating below.\n",
    "\n",
    "| FMI station name        | First year of operation |\n",
    "| ----------------------- | :---------------------: |\n",
    "| lighthouse              | 2003                    |\n",
    "| Harmaja                 | 1989                    |\n",
    "| Suomenlinna aaltopoiju  | 2016                    |\n",
    "| Kumpula                 | 2005                    |\n",
    "| Kaisaniemi              | 1844                    |\n",
    "\n",
    "### Grading for Problem 1\n",
    "\n",
    "Your score for this problem will be based on\n",
    "\n",
    "- Creating two lists for the FMI station names and years in which they began operating\n",
    "- Adding the additional stations and operation years to your lists\n",
    "- Sorting the lists as directed\n",
    "- Committing each change separately using Git, and pushing the changes to GitHub\n",
    "- Listing the changes you needed to make to get the code working in plain English by modifying the existing text or adding a Markdown cell above each change"
   ]
  },
  {
   "cell_type": "markdown",
   "metadata": {
    "nbgrader": {
     "grade": false,
     "grade_id": "cell-624ad911a29570ae",
     "locked": true,
     "schema_version": 3,
     "solution": false
    }
   },
   "source": [
    "### Part 1 - Creating the lists (1 point)\n",
    "\n",
    "In the cell below you should create two lists:\n",
    "\n",
    "- `station_names` should contain the FMI station names in the order they are given above\n",
    "- `station_start_years` should contain the first years of operation of the stations, again in the order give above"
   ]
  },
  {
   "cell_type": "code",
   "execution_count": null,
   "metadata": {
    "nbgrader": {
     "grade": false,
     "grade_id": "problem_1_ag_p1_station_lists",
     "locked": false,
     "schema_version": 3,
     "solution": true,
     "task": false
    }
   },
   "outputs": [],
   "source": [
    "# Create the lists below\n",
    "station_names = None\n",
    "station_start_years = None\n",
    "### BEGIN SOLUTION\n",
    "station_names = ['lighthouse', 'Harmaja', 'Suomenlinna aaltopoiju', 'Kumpula', 'Kaisaniemi']\n",
    "station_start_years = [2003, 1989, 2016, 2005, 1844]\n",
    "### END SOLUTION"
   ]
  },
  {
   "cell_type": "markdown",
   "metadata": {
    "nbgrader": {
     "grade": false,
     "grade_id": "cell-a4f94f90a8ef693a",
     "locked": true,
     "schema_version": 3,
     "solution": false,
     "task": false
    }
   },
   "source": [
    "Let's now check the lists contain the expected values."
   ]
  },
  {
   "cell_type": "code",
   "execution_count": null,
   "metadata": {
    "nbgrader": {
     "grade": true,
     "grade_id": "problem_1_ag_p1_station_lists_test1",
     "locked": true,
     "points": 0.5,
     "schema_version": 3,
     "solution": false,
     "task": false
    }
   },
   "outputs": [],
   "source": [
    "# This is a test cell that checks that the list lengths are correct\n",
    "# Running this cell should not produce any errors\n",
    "assert len(station_names) == 5, 'The station_names list should have 5 items.'\n",
    "assert len(station_start_years) == 5, 'The station_start_years list should have 5 items.'"
   ]
  },
  {
   "cell_type": "code",
   "execution_count": null,
   "metadata": {
    "nbgrader": {
     "grade": true,
     "grade_id": "problem_1_ag_p1_station_lists_test2",
     "locked": true,
     "points": 0.5,
     "schema_version": 3,
     "solution": false,
     "task": false
    }
   },
   "outputs": [],
   "source": [
    "# This is a test cell that checks that the first item in the lists is correct\n",
    "# Running this cell should not produce any errors\n",
    "assert station_names[0] == 'lighthouse', 'The first item in the station_names list should be \"lighthouse\"'\n",
    "assert station_start_years[0] == 2003, 'The first item in the station_start_years list should be 2003'\n",
    "### BEGIN HIDDEN TESTS\n",
    "from nose.tools import ok_, assert_equal\n",
    "# Validate some additional list elements\n",
    "assert_equal(station_names[2], 'Suomenlinna aaltopoiju')\n",
    "assert_equal(station_names[-1], 'Kaisaniemi')\n",
    "assert_equal(station_start_years[2], 2016)\n",
    "assert_equal(station_start_years[-1], 1844)\n",
    "### END HIDDEN TESTS"
   ]
  },
  {
   "cell_type": "markdown",
   "metadata": {
    "nbgrader": {
     "grade": false,
     "grade_id": "cell-111a923765d7da38",
     "locked": true,
     "schema_version": 3,
     "solution": false
    }
   },
   "source": [
    "### Part 2 - Modifying the lists (1 point)\n",
    "\n",
    "Let's now add a few more stations to our lists.\n",
    "The stations to add are shown in the table below.\n",
    "\n",
    "| FMI station name | First year of operation |\n",
    "| ---------------- | :---------------------: |\n",
    "| Malmi airfield   | 1937                    |\n",
    "| Vuosaari harbour | 2012                    |\n",
    "| Kaivopuisto      | 1904                    |\n",
    "\n",
    "In the cell below you should add the stations and starting years to your existing `station_names` and `station_start_years` lists in the order they are listed above."
   ]
  },
  {
   "cell_type": "code",
   "execution_count": null,
   "metadata": {
    "nbgrader": {
     "grade": false,
     "grade_id": "problem_1_ag_p2_modify_lists",
     "locked": false,
     "schema_version": 3,
     "solution": true
    }
   },
   "outputs": [],
   "source": [
    "# Add the additional stations to the lists below\n",
    "\n",
    "### BEGIN SOLUTION\n",
    "# Two good options here:\n",
    "# Option 1 - Adding a second list\n",
    "station_names += ['Malmi airfield', 'Vuosaari harbour', 'Kaivopuisto']\n",
    "station_start_years += [1937, 2012, 1904]\n",
    "\n",
    "# Option 2 - Append\n",
    "#station_names.append('Malmi airfield')\n",
    "#station_names.append('Vuosaari harbour')\n",
    "#station_names.append('Kaivopuisto')\n",
    "#station_start_years.append(1937)\n",
    "#station_start_years.append(2012)\n",
    "#station_start_years.append(1904)\n",
    "### END SOLUTION"
   ]
  },
  {
   "cell_type": "markdown",
   "metadata": {
    "nbgrader": {
     "grade": false,
     "grade_id": "cell-25712dde56b0deb9",
     "locked": true,
     "schema_version": 3,
     "solution": false,
     "task": false
    }
   },
   "source": [
    "And we can now check to see whether the modified lists contain the expected values."
   ]
  },
  {
   "cell_type": "code",
   "execution_count": null,
   "metadata": {
    "nbgrader": {
     "grade": true,
     "grade_id": "problem_1_ag_p2_modify_lists_test1",
     "locked": true,
     "points": 0.5,
     "schema_version": 3,
     "solution": false
    }
   },
   "outputs": [],
   "source": [
    "# This is a test cell that checks that the list lengths are correct\n",
    "# Running this cell should not produce any errors\n",
    "assert len(station_names) == 8, 'The station_names list should have 8 items.'\n",
    "assert len(station_start_years) == 8, 'The station_start_years list should have 8 items.'"
   ]
  },
  {
   "cell_type": "code",
   "execution_count": null,
   "metadata": {
    "nbgrader": {
     "grade": true,
     "grade_id": "problem_1_ag_p2_modify_lists_test2",
     "locked": true,
     "points": 0.5,
     "schema_version": 3,
     "solution": false,
     "task": false
    }
   },
   "outputs": [],
   "source": [
    "# This is a test cell that checks that the last item in the lists is correct\n",
    "# Running this cell should not produce any errors\n",
    "assert station_names[-1] == 'Kaivopuisto', 'The last item in the station_names list should be \"Kaivopuisto\"'\n",
    "assert station_start_years[-1] == 1904, 'The last item in the station_start_years list should be 1904'\n",
    "### BEGIN HIDDEN TESTS\n",
    "from nose.tools import ok_, assert_equal\n",
    "# Validate some additional list elements\n",
    "assert_equal(station_names[5], 'Malmi airfield')\n",
    "assert_equal(station_names[-2], 'Vuosaari harbour')\n",
    "assert_equal(station_start_years[5], 1937)\n",
    "assert_equal(station_start_years[-2], 2012)\n",
    "### END HIDDEN TESTS"
   ]
  },
  {
   "cell_type": "markdown",
   "metadata": {
    "nbgrader": {
     "grade": false,
     "grade_id": "cell-8c0ab6cf80173158",
     "locked": true,
     "schema_version": 3,
     "solution": false
    }
   },
   "source": [
    "### Part 3 - Sorting the lists (1 point)\n",
    "\n",
    "Finally, we can take our lists and sort them. The goal here is to produce two sorted lists:\n",
    "\n",
    "- The `station_names` list should be sorted so the stations are in alphabetical order\n",
    "- The `station_start_years` list should be sorted so that the most recent station starting year is first in the list"
   ]
  },
  {
   "cell_type": "code",
   "execution_count": null,
   "metadata": {
    "nbgrader": {
     "grade": false,
     "grade_id": "problem_1_ag_p3_station_years",
     "locked": false,
     "schema_version": 3,
     "solution": true
    }
   },
   "outputs": [],
   "source": [
    "# Sort the lists as directed below\n",
    "\n",
    "### BEGIN SOLUTION\n",
    "station_names.sort()\n",
    "station_start_years.sort()\n",
    "station_start_years.reverse()\n",
    "### END SOLUTION"
   ]
  },
  {
   "cell_type": "markdown",
   "metadata": {
    "nbgrader": {
     "grade": false,
     "grade_id": "cell-a3782621daec92f2",
     "locked": true,
     "schema_version": 3,
     "solution": false
    }
   },
   "source": [
    "Let's now check that the first value in each sorted list is correct."
   ]
  },
  {
   "cell_type": "code",
   "execution_count": null,
   "metadata": {
    "nbgrader": {
     "grade": true,
     "grade_id": "problem_1_ag_p3_station_years_test1",
     "locked": true,
     "points": 1,
     "schema_version": 3,
     "solution": false,
     "task": false
    }
   },
   "outputs": [],
   "source": [
    "# This is a test cell that checks that the last item in the lists is correct\n",
    "# Running this cell should not produce any errors\n",
    "assert station_names[0] == 'Harmaja', 'The first item in the station_names list should be \"Harmaja\"'\n",
    "assert station_start_years[0] == 2016, 'The first item in the station_start_years list should be 2016'\n",
    "### BEGIN HIDDEN TESTS\n",
    "from nose.tools import ok_, assert_equal\n",
    "# Validate some additional list elements\n",
    "assert_equal(station_names[3], 'Kumpula')\n",
    "assert_equal(station_names[-1], 'lighthouse')\n",
    "assert_equal(station_start_years[3], 2003)\n",
    "assert_equal(station_start_years[-1], 1844)\n",
    "### END HIDDEN TESTS"
   ]
  },
  {
   "cell_type": "markdown",
   "metadata": {
    "nbgrader": {
     "grade": false,
     "grade_id": "final_answer_question",
     "locked": true,
     "schema_version": 3,
     "solution": false
    }
   },
   "source": [
    "### Part 4 - Understanding the code (0 points)\n",
    "\n",
    "Looking at the lists used in Problem 1, what might be a problem with how we have sorted them?\n",
    "Please answer briefly in the cell below."
   ]
  },
  {
   "cell_type": "markdown",
   "metadata": {
    "nbgrader": {
     "grade": true,
     "grade_id": "problem_1_mg_p4_final_answer_question_test",
     "locked": false,
     "points": 0,
     "schema_version": 3,
     "solution": true
    }
   },
   "source": []
  },
  {
   "cell_type": "markdown",
   "metadata": {
    "nbgrader": {
     "grade": false,
     "grade_id": "problem_1_mg_p5_zip",
     "locked": true,
     "schema_version": 3,
     "solution": false,
     "task": false
    }
   },
   "source": [
    "### Part 5 - Python + Google (optional, 0 points)\n",
    "\n",
    "Python has a function called `zip()` that might be helpful in solving the issue mentioned in Part 4.\n",
    "If you like, you're free to do some Googling and see whether you can figure out how to use the `zip()` function to ensure that the station data is consistent for both lists when sorting the station starting years in reverse order.\n",
    "This is a completely optional task.\n",
    "\n",
    "**NOTE**: If you plan to skip this optional problem, be sure to delete the `raise NotImplementedError()` line in the cell below so that you don't have any errors when we run your notebook!"
   ]
  },
  {
   "cell_type": "code",
   "execution_count": null,
   "metadata": {
    "nbgrader": {
     "grade": true,
     "grade_id": "problem_1_mg_p5_zip_test",
     "locked": false,
     "points": 0,
     "schema_version": 3,
     "solution": true,
     "task": false
    }
   },
   "outputs": [],
   "source": [
    "# Add code below if you'd like to test using the zip() function\n"
   ]
  },
  {
   "cell_type": "markdown",
   "metadata": {
    "nbgrader": {
     "grade": false,
     "grade_id": "cell-f328c6e177c1d29c",
     "locked": true,
     "schema_version": 3,
     "solution": false
    }
   },
   "source": [
    "## Problem 2 - Accessing monthly average temperatures (*5 points*)\n",
    "\n",
    "The table below presents [monthly average temperatures recorded at the Helsinki Malmi airport](https://www.timeanddate.com/weather/finland/helsinki/climate).\n",
    "\n",
    "| Month     | Temperature [°C] |\n",
    "| --------- | :--------------: |\n",
    "| January   | -3.5             |\n",
    "| February  | -4.5             |\n",
    "| March     | -1.0             |\n",
    "| April     | 4.0              |\n",
    "| May       | 10.0             |\n",
    "| June      | 15.0             |\n",
    "| July      | 18.0             |\n",
    "| August    | 16.0             |\n",
    "| September | 11.5             |\n",
    "| October   | 6.0              |\n",
    "| November  | 2.0              |\n",
    "| December  | -1.5             |\n",
    "\n",
    "In the code cells below, write some Python code that allows users to select a month and have the monthly average temperature printed to the screen.\n",
    "For example, your code should display the following for the month of March:\n",
    "\n",
    "```\n",
    "The average temperature in Helsinki in March is -1.0\n",
    "```\n",
    "\n",
    "### Grading for Problem 2\n",
    "\n",
    "Your score for this problem will be based on\n",
    "\n",
    "- Having your notebook display the monthly average temperature in a selected month, set by defining the variable `selected_month_index`. **NOTE**: We expect you to use the index value to select the month, not the name of the month (e.g., \"May\").\n",
    "- Having it work for all 12 months in the year.\n",
    "- Describe how your code works in a few sentences of plain English in the Markdown cell above your code\n",
    "- Including inline comments to clearly explain how the code works between most and/or all lines of your code in its Python cell\n",
    "- Pushing your script to your GitHub repository."
   ]
  },
  {
   "cell_type": "code",
   "execution_count": null,
   "metadata": {
    "nbgrader": {
     "grade": false,
     "grade_id": "problem_2_ag_p1_define_lists",
     "locked": false,
     "schema_version": 3,
     "solution": true
    }
   },
   "outputs": [],
   "source": [
    "# here is the variable which you use to set the selected month:\n",
    "selected_month_index = None\n",
    "\n",
    "# Here are also the names of the two lists you should use for this problem. Please don't change the variable names!\n",
    "months = None\n",
    "average_temp = None\n",
    "\n",
    "# Using the lists and their indices, generate the desired print statement:\n",
    "print_statement = None\n",
    "\n",
    "### BEGIN SOLUTION\n",
    "months = ['January', 'February', 'March', 'April', 'May', 'June', 'July', 'August', 'September', \\\n",
    "         'October', 'November', 'December']\n",
    "average_temp = [-3.5, -4.5, -1.0, 4.0, 10.0, 15.0, 18.0, 16.0, 11.5, 6.0, 2.0, -1.5]\n",
    "selected_month_index = 6\n",
    "print_statement = 'The average temperature in Helsinki in ' + str(months[selected_month_index]) + ' is ' + str(average_temp[selected_month_index])\n",
    "\n",
    "### END SOLUTION"
   ]
  },
  {
   "cell_type": "code",
   "execution_count": null,
   "metadata": {
    "nbgrader": {
     "grade": true,
     "grade_id": "problem_2_ag_p1_define_lists_test1",
     "locked": true,
     "points": 1,
     "schema_version": 3,
     "solution": false
    }
   },
   "outputs": [],
   "source": [
    "# Check your print statement:\n",
    "print(print_statement)\n",
    "### BEGIN HIDDEN TESTS\n",
    "#Validate some list elements\n",
    "assert_equal(months[3],'April')\n",
    "assert_equal(months[-1],'December')\n",
    "assert_equal(average_temp[3],4.0)\n",
    "assert_equal(average_temp[-1],-1.5)\n",
    "### END HIDDEN TESTS"
   ]
  },
  {
   "cell_type": "markdown",
   "metadata": {
    "nbgrader": {
     "grade": false,
     "grade_id": "cell-3fb0ac91413aeadc",
     "locked": true,
     "schema_version": 3,
     "solution": false,
     "task": false
    }
   },
   "source": [
    "### Additional tests for problem 2\n",
    "\n",
    "Let's run some additional tests to see if things are working as they should! These tests may help you in solving the problem. Note, we also run some hidden tests for checking the exercises."
   ]
  },
  {
   "cell_type": "code",
   "execution_count": null,
   "metadata": {
    "nbgrader": {
     "grade": true,
     "grade_id": "problem_2_ag_p1_define_lists_test2",
     "locked": true,
     "points": 1,
     "schema_version": 3,
     "solution": false
    }
   },
   "outputs": [],
   "source": [
    "#Validate the length of two lists are 12\n",
    "assert len(months) == 12, 'Wrong length!'\n",
    "assert len(average_temp) == 12, 'Wrong length!'"
   ]
  },
  {
   "cell_type": "code",
   "execution_count": null,
   "metadata": {
    "nbgrader": {
     "grade": true,
     "grade_id": "problem_2_ag_p1_define_lists_test3",
     "locked": true,
     "points": 1,
     "schema_version": 3,
     "solution": false
    }
   },
   "outputs": [],
   "source": [
    "#Validate that variable months and average_temp are lists\n",
    "assert isinstance(months, list), 'Variable months is not a list'\n",
    "assert isinstance(average_temp, list), 'Variable average_temp is not a list'"
   ]
  },
  {
   "cell_type": "code",
   "execution_count": null,
   "metadata": {
    "nbgrader": {
     "grade": true,
     "grade_id": "problem_2_ag_p1_define_lists_test4",
     "locked": true,
     "points": 2,
     "schema_version": 3,
     "solution": false
    }
   },
   "outputs": [],
   "source": [
    "#Validate the print statement is correct; \n",
    "# Set selected_month_index to correspond with July before running this cell.\n",
    "# Note! Your code should work with any of the 12 months!\n",
    "assert print_statement == 'The average temperature in Helsinki in July is 18.0'\n",
    "### BEGIN HIDDEN TESTS\n",
    "selected_station_index = 6\n",
    "assert_equal('The average temperature in Helsinki in July is 18.0', \\\n",
    "'The average temperature in Helsinki in '+months[selected_month_index]+' is '+str(average_temp[selected_month_index]))\n",
    "### END HIDDEN TESTS"
   ]
  },
  {
   "cell_type": "markdown",
   "metadata": {
    "nbgrader": {
     "grade": false,
     "grade_id": "markdown_practice",
     "locked": true,
     "schema_version": 3,
     "solution": false
    }
   },
   "source": [
    "## Problem 3 - More practice using Markdown (*2 points*)\n",
    "\n",
    "The last task in this week's exercise is to answer some questions and add an image in this notebook using Markdown. **Note**: You may want to read a bit more about [formatting text in Github-flavored Markdown](https://help.github.com/articles/basic-writing-and-formatting-syntax/).\n",
    "\n",
    "\n",
    "### Grading for Problem 3\n",
    "\n",
    "Your score for this problem will be based on\n",
    "\n",
    "- Having answered the three questions below\n",
    "- Posting an image of a favorite animal using Markdown\n",
    "\n",
    "\n",
    "#### 1. Give your responses to these three questions about this week's lesson:\n",
    "\n",
    "    - What did you learn?\n",
    "    - What was unclear?\n",
    "    - What would you change?\n",
    "    \n",
    "*Please use Markdown lists when answering these questions.*\n",
    "        "
   ]
  },
  {
   "cell_type": "markdown",
   "metadata": {
    "nbgrader": {
     "grade": true,
     "grade_id": "problem_3_mg_p1_questions",
     "locked": false,
     "points": 1,
     "schema_version": 3,
     "solution": true
    }
   },
   "source": [
    "- What did you like?\n",
    "\n",
    "This lesson was amazing! Python lists are simply mind blowing!"
   ]
  },
  {
   "cell_type": "markdown",
   "metadata": {},
   "source": [
    "#### 2. Adding an image\n",
    "\n",
    "Just for fun, add an image of an animal that you like along with a short caption giving its name and anything special you might like to add.\n",
    "\n",
    "You can add an image using an URL, or (if you are looking for a challenge) by uploading an image to your GitHub repository and linking that image file to this notebook .\n",
    "\n",
    "We suggest that you search for images in a repository that includes licencing information such as [Wikimedia Commons](https://commons.wikimedia.org/wiki/Main_Page) or [Pixabay](https://pixabay.com/). You are, of course, also welcome to upload your own animal images. "
   ]
  },
  {
   "cell_type": "markdown",
   "metadata": {
    "nbgrader": {
     "grade": true,
     "grade_id": "problem_3_mg_p1_insert_image",
     "locked": false,
     "points": 1,
     "schema_version": 3,
     "solution": true
    }
   },
   "source": [
    "My favorite animal:\n",
    "\n",
    "![A wolverine](https://cdn.pixabay.com/photo/2016/09/10/23/55/wolverine-1660429_1280.jpg)"
   ]
  }
 ],
 "metadata": {
  "anaconda-cloud": {},
  "celltoolbar": "Create Assignment",
  "kernelspec": {
   "display_name": "Python 3",
   "language": "python",
   "name": "python3"
  },
  "language_info": {
   "codemirror_mode": {
    "name": "ipython",
    "version": 3
   },
   "file_extension": ".py",
   "mimetype": "text/x-python",
   "name": "python",
   "nbconvert_exporter": "python",
   "pygments_lexer": "ipython3",
   "version": "3.7.4"
  }
 },
 "nbformat": 4,
 "nbformat_minor": 4
}
