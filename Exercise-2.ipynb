{
 "cells": [
  {
   "cell_type": "markdown",
   "metadata": {
    "nbgrader": {
     "grade": false,
     "grade_id": "cell-577a4204893ab1a5",
     "locked": true,
     "schema_version": 3,
     "solution": false
    }
   },
   "source": [
    "# Exercise 2 - Lists and indices\n",
    "\n",
    "The exercise for this week is meant to help you better understand data types and lists in Python, and practice saving changes to your files using Git and GitHub. \n",
    "\n",
    "Exercise 2 consists of 3 problems that you can find in this notebook. For each problem you need to modify the notebook either by fixing problems in existing code, or by adding your own solutions. Remember to push your changes to GitHub already while working, not only at the very end!\n",
    "\n",
    "- **Exercise 2 is due by 09:00 on 18.9.**\n",
    "- Scores on this exercise are out of **20 points**.\n",
    "\n",
    "\n",
    "## Where to find help\n",
    "\n",
    "If you're having trouble, please remember you can\n",
    "\n",
    "- Come to the work sessions on Thursday and/or Friday for help from the course assistants\n",
    "- Check out [the hints for this week's exercise](https://geo-python.github.io/site/lessons/L2/exercise-2.html) on the course webpage\n",
    "- Post questions to Slack"
   ]
  },
  {
   "cell_type": "markdown",
   "metadata": {
    "nbgrader": {
     "grade": false,
     "grade_id": "cell-51a3fbb6b8d35c74",
     "locked": true,
     "schema_version": 3,
     "solution": false
    }
   },
   "source": [
    "## Problem 0 - Cloning Exercise repository to JupyterLab (*0 points*)\n",
    "\n",
    "Before starting to work with the actual problems for this week, you should start a new JupyterLab instance and clone **your own** Exercise 2 repository (e.g. `exercise-2-htenkanen`) into the instance using **Git** as we saw in the [lecture this week](https://geo-python.github.io/site/lessons/L2/git-basics.html). "
   ]
  },
  {
   "cell_type": "markdown",
   "metadata": {
    "nbgrader": {
     "grade": false,
     "grade_id": "cell-34d197ef67f874ec",
     "locked": true,
     "schema_version": 3,
     "solution": false
    }
   },
   "source": [
    "## Problem 1 - Making changes to code and using Git (*7 points*)\n",
    "\n",
    "Your first task for this week is to make some modifications to the Python code in the cells below to fix the errors it gives once you run the code cells.\n",
    "The code should allow users to find the operational time of an [FMI observation station](http://en.ilmatieteenlaitos.fi/observation-stations) by setting the `selected_station` variable.\n",
    "*Don't worry about the case of a station name that is not on the list.*\n",
    "\n",
    "**The main aim is to print out an informative sentence that tells how long the selected station has been operational, for example** `'The Helsinki Harmaja station has been operational for 30 years.'`. However, if you try to run all the code cells under Problem 1, you will run into errors. Your task is to find **3 things to fix** in the code cells under Problem 1. Once you succeed, the final print statement should work.\n",
    "\n",
    "**NOTE: Some of the cells in this Jupyter Notebook are \"Read-only\" which means that you are not able to edit them.**\n",
    "\n",
    "### Grading for Problem 1\n",
    "\n",
    "Your score for this problem will be based on\n",
    "\n",
    "- Fixing **3 major code problems** to get the code working as expected\n",
    "- Committing each change separately to GitHub using Git\n",
    "- Listing the changes you needed to make to get the code working in plain English by modifying the existing text or adding a Markdown cell above each change"
   ]
  },
  {
   "cell_type": "markdown",
   "metadata": {
    "nbgrader": {
     "grade": false,
     "grade_id": "cell-624ad911a29570ae",
     "locked": true,
     "schema_version": 3,
     "solution": false
    }
   },
   "source": [
    "Here we create and fill lists of station names and starting years for observation.\n",
    "**NOTE**: Long lines can be split into multiple lines using the \"\\\\\" character. Split lines can be indented freely. \n",
    "\n",
    "*These code cells are \"Read-only\" - you won't be able to modify the input lists.*"
   ]
  },
  {
   "cell_type": "code",
   "execution_count": 4,
   "metadata": {
    "nbgrader": {
     "grade": false,
     "grade_id": "cell-f16d9e1598382abb",
     "locked": true,
     "schema_version": 3,
     "solution": false
    }
   },
   "outputs": [],
   "source": [
    "# Read-only code cell\n",
    "station_names = ['Harmaja', 'Kaisaniemi', 'Kaivopuisto', 'Kumpula', 'lighthouse', \\\n",
    "                'Malmi airfield', 'Suomenlinna aaltopoiju', 'Vuosaari harbour']"
   ]
  },
  {
   "cell_type": "code",
   "execution_count": 5,
   "metadata": {
    "nbgrader": {
     "grade": false,
     "grade_id": "cell-a6fa30a83026c13c",
     "locked": true,
     "schema_version": 3,
     "solution": false
    }
   },
   "outputs": [],
   "source": [
    "# Read-only code cell\n",
    "station_start_years = [1989, 1844, 1904, 2005, 2003, 1937, 2016, 2012]"
   ]
  },
  {
   "cell_type": "markdown",
   "metadata": {
    "nbgrader": {
     "grade": false,
     "grade_id": "cell-111a923765d7da38",
     "locked": true,
     "schema_version": 3,
     "solution": false
    }
   },
   "source": [
    "Below we can define the selected station. \n",
    "\n",
    "*you can start modifying the code starting from the code cell below.*"
   ]
  },
  {
   "cell_type": "code",
   "execution_count": 6,
   "metadata": {
    "nbgrader": {
     "grade": false,
     "grade_id": "selected_station",
     "locked": false,
     "schema_version": 3,
     "solution": true
    }
   },
   "outputs": [],
   "source": [
    "selected_station = None\n",
    "### BEGIN SOLUTION\n",
    "selected_station = 'Harmaja'\n",
    "### END SOLUTION"
   ]
  },
  {
   "cell_type": "code",
   "execution_count": 7,
   "metadata": {
    "nbgrader": {
     "grade": true,
     "grade_id": "selected_station_test",
     "locked": true,
     "points": 2,
     "schema_version": 3,
     "solution": false
    }
   },
   "outputs": [
    {
     "name": "stdout",
     "output_type": "stream",
     "text": [
      "Harmaja\n"
     ]
    }
   ],
   "source": [
    "print(selected_station)\n",
    "\n",
    "### BEGIN HIDDEN TESTS\n",
    "from nose.tools import ok_, assert_equal\n",
    "\n",
    "# Validate that selected_station is an element in the list station_names\n",
    "ok_(selected_station in station_names, \\\n",
    "    'selected_station = '+str(selected_station)+' is not an element in station_names')\n",
    "### END HIDDEN TESTS"
   ]
  },
  {
   "cell_type": "markdown",
   "metadata": {
    "nbgrader": {
     "grade": false,
     "grade_id": "cell-8c0ab6cf80173158",
     "locked": true,
     "schema_version": 3,
     "solution": false
    }
   },
   "source": [
    "Next we find the location of the selected station in the list of station names."
   ]
  },
  {
   "cell_type": "code",
   "execution_count": 8,
   "metadata": {
    "nbgrader": {
     "grade": false,
     "grade_id": "cell-4d559812a8644360",
     "locked": true,
     "schema_version": 3,
     "solution": false
    }
   },
   "outputs": [],
   "source": [
    "# Read-only code cell\n",
    "station_index = station_names.index(selected_station)"
   ]
  },
  {
   "cell_type": "markdown",
   "metadata": {
    "nbgrader": {
     "grade": false,
     "grade_id": "cell-5b6020cf2c5808a6",
     "locked": true,
     "schema_version": 3,
     "solution": false
    }
   },
   "source": [
    "Now we can calculate the years the station has been operational."
   ]
  },
  {
   "cell_type": "code",
   "execution_count": 10,
   "metadata": {
    "nbgrader": {
     "grade": false,
     "grade_id": "station_years",
     "locked": false,
     "schema_version": 3,
     "solution": true
    }
   },
   "outputs": [],
   "source": [
    "station_years = 2019 - station_start_years[selected_station]\n",
    "### BEGIN SOLUTION\n",
    "station_years = 2019 - station_start_years[station_index]\n",
    "### END SOLUTION"
   ]
  },
  {
   "cell_type": "markdown",
   "metadata": {
    "nbgrader": {
     "grade": false,
     "grade_id": "cell-a3782621daec92f2",
     "locked": true,
     "schema_version": 3,
     "solution": false
    }
   },
   "source": [
    "Finally, we print the station name and number of years of operation to the screen.\n",
    "A sample print statement on screen is 'The Helsinki Harmaja station has been operational for 30 years.'"
   ]
  },
  {
   "cell_type": "code",
   "execution_count": 16,
   "metadata": {
    "nbgrader": {
     "grade": false,
     "grade_id": "print_statement",
     "locked": false,
     "schema_version": 3,
     "solution": true
    }
   },
   "outputs": [
    {
     "name": "stdout",
     "output_type": "stream",
     "text": [
      "The Helsinki Harmaja station has been operational for 30 years.\n"
     ]
    }
   ],
   "source": [
    "print_statement = \"The Helsinki \" + selected_station + \" station has been operational for \"+ \\\n",
    "      str(station_years)+ \" years.\n",
    "\n",
    "### BEGIN SOLUTION\n",
    "selected_station = \"The Helsinki \" + selected_station + \" station has been operational for \"+ \\\n",
    "      str(station_years)+ \" years.\"\n",
    "### END SOLUTION\n",
    "\n",
    "print(print_statement)"
   ]
  },
  {
   "cell_type": "code",
   "execution_count": null,
   "metadata": {
    "nbgrader": {
     "grade": true,
     "grade_id": "print_statement_test",
     "locked": true,
     "points": 1,
     "schema_version": 3,
     "solution": false
    }
   },
   "outputs": [],
   "source": [
    "#Validate that the print statement is correct\n",
    "assert_equal(print_statement, 'The Helsinki Harmaja station has been operational for 30 years.')"
   ]
  },
  {
   "cell_type": "markdown",
   "metadata": {
    "nbgrader": {
     "grade": false,
     "grade_id": "cell-fadeb47940f2210d",
     "locked": true,
     "schema_version": 3,
     "solution": false
    }
   },
   "source": [
    "Describe the 3 code changes you made below in plain English:"
   ]
  },
  {
   "cell_type": "markdown",
   "metadata": {
    "nbgrader": {
     "grade": true,
     "grade_id": "cell-f46f8c8ce34b46ec",
     "locked": false,
     "points": 1,
     "schema_version": 3,
     "solution": true
    }
   },
   "source": []
  },
  {
   "cell_type": "markdown",
   "metadata": {
    "nbgrader": {
     "grade": false,
     "grade_id": "cell-f328c6e177c1d29c",
     "locked": true,
     "schema_version": 3,
     "solution": false
    }
   },
   "source": [
    "## Problem 2 - Accessing monthly average temperatures (*9 points*)\n",
    "\n",
    "The table below presents [monthly average temperatures recorded at the Helsinki Malmi airport](https://www.timeanddate.com/weather/finland/helsinki/climate).\n",
    "\n",
    "| Month     | Temperature [°C] |\n",
    "| --------- | :--------------: |\n",
    "| January   | -3.5             |\n",
    "| February  | -4.5             |\n",
    "| March     | -1.0             |\n",
    "| April     | 4.0              |\n",
    "| May       | 10.0             |\n",
    "| June      | 15.0             |\n",
    "| July      | 18.0             |\n",
    "| August    | 16.0             |\n",
    "| September | 11.5             |\n",
    "| October   | 6.0              |\n",
    "| November  | 2.0              |\n",
    "| December  | -1.5             |\n",
    "\n",
    "In the code cells below, write some Python code that allows users to select a month and have the monthly average temperature printed to the screen.\n",
    "For example, your code should display the following for the month of March:\n",
    "\n",
    "```\n",
    "The average temperature in Helsinki in March is -1.0\n",
    "```\n",
    "\n",
    "### Grading for Problem 2\n",
    "\n",
    "Your score for this problem will be based on\n",
    "\n",
    "- Having your notebook display the monthly average temperature in a selected month, set by defining the variable `selected_month_index`.\n",
    "    - **NOTE**: We expect you to use the index value to select the month, not the name of the month (e.g., \"May\").\n",
    "- Having it work for all 12 months in the year.\n",
    "- Describe how your code works in a few sentences of plain English in the Markdown cell above your code\n",
    "- Including inline comments to clearly explain how the code works between most and/or all lines of your code in its Python cell\n",
    "- Pushing your script to your GitHub repository for this week's lesson.\n",
    "- Answering the three questions listed at the end of this problem."
   ]
  },
  {
   "cell_type": "markdown",
   "metadata": {
    "nbgrader": {
     "grade": true,
     "grade_id": "cell-8f55ec0c67488f58",
     "locked": false,
     "points": 0,
     "schema_version": 3,
     "solution": true
    }
   },
   "source": [
    "### Code description\n",
    "\n",
    "Describe how your code works here."
   ]
  },
  {
   "cell_type": "code",
   "execution_count": null,
   "metadata": {
    "nbgrader": {
     "grade": false,
     "grade_id": "cell-4e0b1f7ad0ca4693",
     "locked": false,
     "schema_version": 3,
     "solution": true
    }
   },
   "outputs": [],
   "source": [
    "# We have provided the names of the two lists you should use for this problem.\n",
    "months = None\n",
    "average_temp = None\n",
    "### BEGIN SOLUTION\n",
    "months = ['January', 'February', 'March', 'April', 'May', 'June', 'July', 'August', 'September', \\\n",
    "         'October', 'November', 'December']\n",
    "average_temp = [-3.5, -4.5, -1.0, 4.0, 10.0, 15.0, 18.0, 16.0, 11.5, 6.0, 2.0, -1.5]\n",
    "selected_month_index = 6\n",
    "print('The average temperature in Helsinki in', months[selected_month_index], 'is', average_temp[selected_month_index])\n",
    "### END SOLUTION"
   ]
  },
  {
   "cell_type": "code",
   "execution_count": null,
   "metadata": {
    "nbgrader": {
     "grade": true,
     "grade_id": "cell-ff185e790e43145e",
     "locked": true,
     "points": 2,
     "schema_version": 3,
     "solution": false
    }
   },
   "outputs": [],
   "source": [
    "#Validate the length of two lists are 12\n",
    "ok_(len(months)==12)\n",
    "ok_(len(average_temp)==12)"
   ]
  },
  {
   "cell_type": "code",
   "execution_count": null,
   "metadata": {
    "nbgrader": {
     "grade": true,
     "grade_id": "cell-fb4b3da63919bbeb",
     "locked": true,
     "points": 2,
     "schema_version": 3,
     "solution": false
    }
   },
   "outputs": [],
   "source": [
    "#Validate that variable months and average_temp are lists\n",
    "ok_(isinstance(months, list), 'Variable months is not a list')\n",
    "ok_(isinstance(average_temp, list), 'Variable average_temp is not a list')"
   ]
  },
  {
   "cell_type": "code",
   "execution_count": null,
   "metadata": {
    "nbgrader": {
     "grade": true,
     "grade_id": "cell-ccf0ca5467b49c1b",
     "locked": true,
     "points": 2,
     "schema_version": 3,
     "solution": false
    }
   },
   "outputs": [],
   "source": [
    "#Validate some list elements\n",
    "assert_equal(months[3],'April')\n",
    "assert_equal(months[-1],'December')\n",
    "assert_equal(average_temp[3],4.0)\n",
    "assert_equal(average_temp[-1],-1.5)"
   ]
  },
  {
   "cell_type": "code",
   "execution_count": null,
   "metadata": {
    "nbgrader": {
     "grade": true,
     "grade_id": "cell-ed263e3d32ee8734",
     "locked": true,
     "points": 3,
     "schema_version": 3,
     "solution": false
    }
   },
   "outputs": [],
   "source": [
    "#Validate the print statement is correct\n",
    "#Please set the index to 6, run the code cell and run this test cell.\n",
    "assert_equal('The average temperature in Helsinki in July is 18.0', \\\n",
    "'The average temperature in Helsinki in '+months[selected_month_index]+' is '+str(average_temp[selected_month_index]))"
   ]
  },
  {
   "cell_type": "markdown",
   "metadata": {
    "nbgrader": {
     "grade": false,
     "grade_id": "cell-ef8568b0975e4642",
     "locked": true,
     "schema_version": 3,
     "solution": false
    }
   },
   "source": [
    "## Problem 3 - More practice using Markdown (*4 points*)\n",
    "\n",
    "The last task in this week's exercise is to answer some questions in this notebook using Markdown.\n",
    "\n",
    "**Note**: You may want to read a bit more about [formatting text in Github-flavored Markdown](https://help.github.com/articles/basic-writing-and-formatting-syntax/).\n",
    "\n",
    "1. Give your responses to the three questions about this week's lesson.\n",
    "    - Be sure to list the question on the first line of the Markdown cell using Markdown for an unordered list\n",
    "    - Questions to answer about Lesson 2:\n",
    "        - What did you like?\n",
    "        - What did you dislike?\n",
    "        - What would you change?\n",
    "\n",
    "2. Just for fun, add an image of an animal that you like along with a short caption giving its name and anything special you might like to add.\n",
    "You should add an image by linking to a website with the image, or if by uploading an image to your GitHub repository and linking to that (if you are looking for a challenge).\n",
    "We suggest that you search for images in a repository that includes licencing information such as [Wikimedia Commons](https://commons.wikimedia.org/wiki/Main_Page) or [Pixabay](https://pixabay.com/).\n",
    "You are, of course, also welcome to upload your own animal images.\n",
    "You can add it in a new Markdown cell under those used to answer the questions in part 1 of this problem.\n",
    "\n",
    "### Grading for Problem 3\n",
    "\n",
    "Your score for this problem will be based on\n",
    "\n",
    "- Your answers to the three questions that are part of this problem\n",
    "- Posting an image of a favorite animal using Markdown"
   ]
  },
  {
   "cell_type": "markdown",
   "metadata": {
    "nbgrader": {
     "grade": true,
     "grade_id": "cell-ec1cb9fcd924ec5a",
     "locked": false,
     "points": 1,
     "schema_version": 3,
     "solution": true
    }
   },
   "source": [
    "- What did you like?\n",
    "\n",
    "This lesson was amazing! Python lists are simply mind blowing!"
   ]
  },
  {
   "cell_type": "markdown",
   "metadata": {
    "nbgrader": {
     "grade": true,
     "grade_id": "cell-0c0f89bbc72e46d0",
     "locked": false,
     "points": 1,
     "schema_version": 3,
     "solution": true
    }
   },
   "source": []
  },
  {
   "cell_type": "markdown",
   "metadata": {
    "nbgrader": {
     "grade": true,
     "grade_id": "cell-25fb5ac29fa3f58d",
     "locked": false,
     "points": 1,
     "schema_version": 3,
     "solution": true
    }
   },
   "source": []
  },
  {
   "cell_type": "markdown",
   "metadata": {
    "nbgrader": {
     "grade": true,
     "grade_id": "cell-0ef0803466212d71",
     "locked": false,
     "points": 1,
     "schema_version": 3,
     "solution": true
    }
   },
   "source": [
    "My favorite animal:\n",
    "\n",
    "![A wolverine](https://cdn.pixabay.com/photo/2016/09/10/23/55/wolverine-1660429_1280.jpg)"
   ]
  }
 ],
 "metadata": {
  "celltoolbar": "Create Assignment",
  "kernelspec": {
   "display_name": "Python 3",
   "language": "python",
   "name": "python3"
  },
  "language_info": {
   "codemirror_mode": {
    "name": "ipython",
    "version": 3
   },
   "file_extension": ".py",
   "mimetype": "text/x-python",
   "name": "python",
   "nbconvert_exporter": "python",
   "pygments_lexer": "ipython3",
   "version": "3.7.4"
  }
 },
 "nbformat": 4,
 "nbformat_minor": 2
}
